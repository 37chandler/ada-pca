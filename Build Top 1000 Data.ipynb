{
 "cells": [
  {
   "cell_type": "markdown",
   "metadata": {},
   "source": [
    "This notebook takes a sample of owners and builds their sales by product for the top 1000 products."
   ]
  },
  {
   "cell_type": "code",
   "execution_count": null,
   "metadata": {
    "collapsed": true
   },
   "outputs": [],
   "source": [
    "import random\n",
    "import os\n",
    "from collections import defaultdict"
   ]
  },
  {
   "cell_type": "code",
   "execution_count": null,
   "metadata": {
    "collapsed": false
   },
   "outputs": [],
   "source": [
    "top_prods = set() # throw these in a set for easy lookup.\n",
    "top_1000_file = \"top_1000_prods.tsv\"\n",
    "\n",
    "with open(top_1000_file) as infile :\n",
    "    next(infile)\n",
    "    for row in infile.readlines() :\n",
    "        prod, sales_total = row.strip().split(\"\\t\") \n",
    "        top_prods.add(prod)\n"
   ]
  },
  {
   "cell_type": "markdown",
   "metadata": {},
   "source": [
    "Now we'll point our script at our owner files, take a sample of a desired size, and build our sales data. "
   ]
  },
  {
   "cell_type": "code",
   "execution_count": null,
   "metadata": {
    "collapsed": false
   },
   "outputs": [],
   "source": [
    "owner_file_location = \"C:/Users/jchan/Dropbox/Teaching/CorporatePartners/Wedge/Data/OwnerFiles/\"\n",
    "#owner_file_location = \"C:/Users/jchan/Dropbox/Teaching/CorporatePartners/Wedge/Data/OwnerSample/\"\n",
    "\n",
    "num_owner_files_to_sample = 20\n",
    "\n",
    "owner_files = [f for f in os.listdir(owner_file_location) if \"NonOwners\" not in f]\n",
    "\n",
    "random.seed(20171211)\n",
    "owner_files = random.sample(owner_files,num_owner_files_to_sample)"
   ]
  },
  {
   "cell_type": "code",
   "execution_count": null,
   "metadata": {
    "collapsed": false
   },
   "outputs": [],
   "source": [
    "sales_holder = defaultdict(lambda: # owner key \n",
    "                           defaultdict(float)) # product key. Value is sales"
   ]
  },
  {
   "cell_type": "code",
   "execution_count": null,
   "metadata": {
    "collapsed": false
   },
   "outputs": [],
   "source": [
    "for of in owner_files :\n",
    "    print(\"On file \" + of)\n",
    "    with open(owner_file_location + of,'r') as infile :\n",
    "        next(infile)\n",
    "        for row in infile.readlines() :\n",
    "            row = row.strip().split('\\t')\n",
    "            owner = row[45]\n",
    "            desc = row[5]\n",
    "            sales = row[14]\n",
    "            if desc in top_prods :\n",
    "                sales_holder[owner][desc] += float(sales)\n",
    "       "
   ]
  },
  {
   "cell_type": "markdown",
   "metadata": {},
   "source": [
    "Now we're going to write out our results. Notice the header trick below. This is a good way to handle files that have a ton of columns. "
   ]
  },
  {
   "cell_type": "code",
   "execution_count": null,
   "metadata": {
    "collapsed": false
   },
   "outputs": [],
   "source": [
    "prod_list = list(top_prods)\n",
    "headers = ['owner'] + prod_list # the first trick.\n",
    "\n",
    "with open(\"owner_level_top_prod_sales.txt\",'w') as ofile :\n",
    "    ofile.write(\"\\t\".join(headers) + \"\\n\")\n",
    "    for owner in sales_holder :\n",
    "        oline = [owner]\n",
    "        for product in prod_list : # this is the second trick. It's subtle.\n",
    "            # Nice feature of defaultdicts--zeros if the\n",
    "            # owner didn't buy the product, since `float` returns\n",
    "            # zero.\n",
    "            oline.append(round(sales_holder[owner][product],2))\n",
    "        \n",
    "        # Getting this at the right level of indentation is important. \n",
    "        ofile.write(\"\\t\".join([str(item) for item in oline]) + \"\\n\")\n"
   ]
  },
  {
   "cell_type": "markdown",
   "metadata": {},
   "source": [
    "And that's it!"
   ]
  }
 ],
 "metadata": {
  "kernelspec": {
   "display_name": "Python 3",
   "language": "python",
   "name": "python3"
  },
  "language_info": {
   "codemirror_mode": {
    "name": "ipython",
    "version": 3
   },
   "file_extension": ".py",
   "mimetype": "text/x-python",
   "name": "python",
   "nbconvert_exporter": "python",
   "pygments_lexer": "ipython3",
   "version": "3.6.2"
  }
 },
 "nbformat": 4,
 "nbformat_minor": 2
}
